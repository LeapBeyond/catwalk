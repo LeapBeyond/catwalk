{
 "cells": [
  {
   "cell_type": "markdown",
   "metadata": {},
   "source": [
    "# Wrapping an sklearn model with Catwalk\n",
    "\n",
    "In this tutorial, we will train and save a simple sklearn model then wrap it with Catwalk.\n",
    "\n",
    "This notebook creates a LogisticRegression model and saves it with MLflow, based on the sklearn [Linear Regression Example](https://scikit-learn.org/stable/auto_examples/linear_model/plot_ols.html#sphx-glr-auto-examples-linear-model-plot-ols-py)."
   ]
  },
  {
   "cell_type": "markdown",
   "metadata": {},
   "source": [
    "## 0) Install dependencies\n",
    "\n",
    "As well as catwalk, we need the following dependencies installed:"
   ]
  },
  {
   "cell_type": "code",
   "execution_count": null,
   "metadata": {},
   "outputs": [],
   "source": [
    "!pip install sklearn matplotlib"
   ]
  },
  {
   "cell_type": "markdown",
   "metadata": {},
   "source": [
    "## 1) Load a dataset\n",
    "\n",
    "Here we're using the sklearn diabetes dataset. This tutorial uses the only the first feature of the diabetes dataset, in order to illustrate a two-dimensional plot of this regression technique."
   ]
  },
  {
   "cell_type": "code",
   "execution_count": null,
   "metadata": {},
   "outputs": [],
   "source": [
    "import numpy as np\n",
    "from sklearn import datasets\n",
    "\n",
    "# Load the diabetes dataset\n",
    "diabetes_X, diabetes_y = datasets.load_diabetes(return_X_y=True)\n",
    "\n",
    "# Use only one feature\n",
    "diabetes_X = diabetes_X[:, np.newaxis, 2]\n",
    "\n",
    "# Split the data into training/testing sets\n",
    "diabetes_X_train = diabetes_X[:-20]\n",
    "diabetes_X_test = diabetes_X[-20:]\n",
    "\n",
    "# Split the targets into training/testing sets\n",
    "diabetes_y_train = diabetes_y[:-20]\n",
    "diabetes_y_test = diabetes_y[-20:]\n",
    "\n",
    "print(\"Number of training examples:\", len(diabetes_X_train))\n",
    "print(\"Number of testing examples:\", len(diabetes_X_test))"
   ]
  },
  {
   "cell_type": "markdown",
   "metadata": {},
   "source": [
    "## 2) Train a model"
   ]
  },
  {
   "cell_type": "code",
   "execution_count": null,
   "metadata": {},
   "outputs": [],
   "source": [
    "from sklearn import linear_model\n",
    "\n",
    "# Create linear regression object\n",
    "regr = linear_model.LinearRegression()\n",
    "\n",
    "# Train the model using the training sets\n",
    "regr.fit(diabetes_X_train, diabetes_y_train)"
   ]
  },
  {
   "cell_type": "markdown",
   "metadata": {},
   "source": [
    "## 3) Evaluate the model\n",
    "\n",
    "Here the coefficients, the residual sum of squares and the coefficient of determination are calculated and displayed."
   ]
  },
  {
   "cell_type": "code",
   "execution_count": null,
   "metadata": {},
   "outputs": [],
   "source": [
    "from sklearn.metrics import mean_squared_error, r2_score\n",
    "\n",
    "# Make predictions using the testing set\n",
    "diabetes_y_pred = regr.predict(diabetes_X_test)\n",
    "\n",
    "# The coefficients\n",
    "print('Coefficients: \\n', regr.coef_)\n",
    "# The mean squared error\n",
    "print('Mean squared error: %.2f'\n",
    "      % mean_squared_error(diabetes_y_test, diabetes_y_pred))\n",
    "# The coefficient of determination: 1 is perfect prediction\n",
    "print('Coefficient of determination: %.2f'\n",
    "      % r2_score(diabetes_y_test, diabetes_y_pred))"
   ]
  },
  {
   "cell_type": "markdown",
   "metadata": {},
   "source": [
    "## 4) Visualise the result\n",
    "\n",
    "The straight line can be seen in the plot, showing how linear regression attempts to draw a straight line that will best minimize the residual sum of squares between the observed responses in the dataset, and the responses predicted by the linear approximation."
   ]
  },
  {
   "cell_type": "code",
   "execution_count": null,
   "metadata": {},
   "outputs": [],
   "source": [
    "%matplotlib inline\n",
    "import matplotlib.pyplot as plt\n",
    "\n",
    "# Plot outputs\n",
    "plt.scatter(diabetes_X_test, diabetes_y_test,  color='black')\n",
    "plt.plot(diabetes_X_test, diabetes_y_pred, color='blue', linewidth=3)"
   ]
  },
  {
   "cell_type": "markdown",
   "metadata": {},
   "source": [
    "## 5) Save a model artifact\n",
    "\n",
    "Next we can save our trained model. Here we've opted to simply pickle to model. The catwalk-wrapped model will load an run this pickle file.\n",
    "\n",
    "Catwalk can test the model against some test cases. This is useful in a CI/CD pipeline where we need to make sure that models are not automatically wrapped with incorrect behaviour. So we will also save the test data and the model predictions along with the model in the same pickle file."
   ]
  },
  {
   "cell_type": "code",
   "execution_count": null,
   "metadata": {},
   "outputs": [],
   "source": [
    "import pickle\n",
    "\n",
    "with open(\"model.pkl\", \"wb\") as fp:\n",
    "    pickle.dump({\n",
    "        \"model\": regr,\n",
    "        \"X_test\": diabetes_X_test,\n",
    "        \"y_test\": diabetes_y_pred,\n",
    "    }, fp)"
   ]
  },
  {
   "cell_type": "markdown",
   "metadata": {},
   "source": [
    "## 6) Create a catwalk Model\n",
    "\n",
    "Catwalk requires a `model.py`, implementing a single class called `Model`, that follows this interface:\n",
    "\n",
    "```python\n",
    "class Model(object):\n",
    "    \"\"\"The Model knows how to load itself, provides test data and runs with `Model::predict`.\n",
    "    \"\"\"\n",
    "\n",
    "    def __init__(self, path=\".\"):\n",
    "        \"\"\"The Model constructor.\n",
    "\n",
    "        Use this to initialise your model, including loading any weights etc.\n",
    "\n",
    "        :param str path: The full path to the folder in which the model is located.\n",
    "        \"\"\"\n",
    "        pass\n",
    "\n",
    "    def load_test_data(self, path=\".\") -> (list, list):\n",
    "        \"\"\"Loads and returns test data.\n",
    "\n",
    "        Format of the returned data is similar to pd.DataFrame.records, a list of key-value pairs.\n",
    "\n",
    "        :param str path: The full path to the folder in which the model is located.\n",
    "        :return: Tuple of feature, target lists.\n",
    "        \"\"\"\n",
    "        pass\n",
    "\n",
    "    def predict(self, X) -> dict:\n",
    "        \"\"\"Uses the model to predict a value.\n",
    "\n",
    "        :param dict X: The features to predict against\n",
    "        :return: The prediction result\n",
    "        \"\"\"\n",
    "        pass\n",
    "```\n",
    "\n",
    "Let's create this below:"
   ]
  },
  {
   "cell_type": "code",
   "execution_count": null,
   "metadata": {},
   "outputs": [],
   "source": [
    "%%writefile model.py\n",
    "from os.path import join\n",
    "\n",
    "import pickle\n",
    "\n",
    "\n",
    "class Model(object):\n",
    "    def __init__(self, path=\".\"):\n",
    "        \"\"\"The Model constructor.\n",
    "\n",
    "        Use this to initialise your model, including loading any weights etc.\n",
    "\n",
    "        :param str path: The full path to the folder in which the model is located.\n",
    "        \"\"\"\n",
    "        # Unpickle the model artifact\n",
    "        with open(join(path, \"model.pkl\"), \"rb\") as fp:\n",
    "            model_artifact = pickle.load(fp)\n",
    "\n",
    "        # Extract the model and test data\n",
    "        self._model = model_artifact[\"model\"]\n",
    "        self._X_test = model_artifact[\"X_test\"]\n",
    "        self._y_test = model_artifact[\"y_test\"]\n",
    "\n",
    "    def load_test_data(self, path=\".\") -> (list, list):\n",
    "        \"\"\"Loads and returns test data.\n",
    "\n",
    "        Format of the returned data is similar to pd.DataFrame.records, a list of key-value pairs.\n",
    "\n",
    "        :param str path: The full path to the folder in which the model is located.\n",
    "        :return: Tuple of feature, target lists.\n",
    "        \"\"\"\n",
    "        # The test data needs to be json-serializable, so here we're using `ndarray.tolist()\n",
    "        # to convert to a plain python list\n",
    "        return [{\"X\": self._X_test.tolist()}], [{\"y\": self._y_test.tolist()}]\n",
    "\n",
    "    def predict(self, X) -> dict:\n",
    "        \"\"\"Uses the model to predict a value.\n",
    "\n",
    "        :param dict X: The features to predict against\n",
    "        :return: The prediction result\n",
    "        \"\"\"\n",
    "        y = self._model.predict(X[\"X\"])\n",
    "        # Again we're using `ndarray.tolist() to convert the model output to a plain python list\n",
    "        return {\"y\": y.tolist()}\n"
   ]
  },
  {
   "cell_type": "markdown",
   "metadata": {},
   "source": [
    "## 7 ) Create model metadata\n",
    "\n",
    "The metadata file is used for the model's name, version and contact information, and to validate the model inputs and outputs.\n",
    "\n",
    "```yaml\n",
    "name: \"Model name (str)\"\n",
    "version: \"Model version (str)\"\n",
    "\n",
    "contact:\n",
    "  name: \"Contact name (str)\"\n",
    "  email: \"Contact email (str)\"\n",
    "\n",
    "schema:\n",
    "  input: \"The input schema of the model in OpenAPI format (object / array)\"\n",
    "  output: \"The output schema of the model in OpenAPI format (object / array)\"\n",
    "```\n",
    "\n",
    "The input of our model is a 2D array and the output is only one-dimentional. This gives us in IO schema like the following:"
   ]
  },
  {
   "cell_type": "code",
   "execution_count": null,
   "metadata": {},
   "outputs": [],
   "source": [
    "%%writefile model.yml\n",
    "name: \"catwalk-sklearn-tutorial\"\n",
    "version: \"0.1.0\"\n",
    "\n",
    "contact:\n",
    "  name: \"Andy Elmsley\"\n",
    "  email: \"andy.elmsley@leapbeyond.ai\"\n",
    "\n",
    "schema:\n",
    "  input:\n",
    "    type: object\n",
    "    properties:\n",
    "        X:\n",
    "            type: array\n",
    "            items:\n",
    "                type: array\n",
    "                items:\n",
    "                    type: number\n",
    "  output:\n",
    "    type: object\n",
    "    properties:\n",
    "        y:\n",
    "            type: array\n",
    "            items:\n",
    "                type: number"
   ]
  },
  {
   "cell_type": "markdown",
   "metadata": {},
   "source": [
    "## 8) Set the requirements\n",
    "\n",
    "This model will be shipped around and run in different environments. The requirements.txt allows us to ensure that all dependencies will be met in each of these envs."
   ]
  },
  {
   "cell_type": "code",
   "execution_count": null,
   "metadata": {},
   "outputs": [],
   "source": [
    "%%writefile requirements.txt\n",
    "sklearn\n"
   ]
  },
  {
   "cell_type": "markdown",
   "metadata": {},
   "source": [
    "## 9)  Test the model with Catwalk\n",
    "\n",
    "Catwalk comes with several tests to make sure you've implemented the model in the way that it expects"
   ]
  },
  {
   "cell_type": "code",
   "execution_count": null,
   "metadata": {},
   "outputs": [],
   "source": [
    "!catwalk test-model"
   ]
  },
  {
   "cell_type": "code",
   "execution_count": null,
   "metadata": {},
   "outputs": [],
   "source": [
    "!catwalk test-server"
   ]
  },
  {
   "cell_type": "markdown",
   "metadata": {},
   "source": [
    "## 10) Serve your model\n",
    "\n",
    "When the two tests above pass, you're model is ready to be served by catwalk!\n",
    "\n",
    "In a separate terminal, execute the following:\n",
    "\n",
    "```bash\n",
    "$ catwalk serve --debug\n",
    "```\n",
    "\n",
    "This will start a debug catwalk server.\n",
    "\n",
    "Once that's ready, try sending some requests..."
   ]
  },
  {
   "cell_type": "markdown",
   "metadata": {},
   "source": [
    "This first request returns the model metadata:"
   ]
  },
  {
   "cell_type": "code",
   "execution_count": null,
   "metadata": {
    "scrolled": true
   },
   "outputs": [],
   "source": [
    "!curl http://localhost:9090/info | python -m json.tool"
   ]
  },
  {
   "cell_type": "markdown",
   "metadata": {},
   "source": [
    "This request sends the model a predict request!"
   ]
  },
  {
   "cell_type": "code",
   "execution_count": null,
   "metadata": {},
   "outputs": [],
   "source": [
    "!curl -H \"Content-Type: application/json\" \\\n",
    "    -d '{\"correlation_id\": \"foo\", \"request\": {\"X\": [[0.07786339]]}}' \\\n",
    "    http://localhost:9090/predict | python -m json.tool"
   ]
  }
 ],
 "metadata": {
  "kernelspec": {
   "display_name": "Python 3",
   "language": "python",
   "name": "python3"
  },
  "language_info": {
   "codemirror_mode": {
    "name": "ipython",
    "version": 3
   },
   "file_extension": ".py",
   "mimetype": "text/x-python",
   "name": "python",
   "nbconvert_exporter": "python",
   "pygments_lexer": "ipython3",
   "version": "3.7.5"
  }
 },
 "nbformat": 4,
 "nbformat_minor": 4
}
